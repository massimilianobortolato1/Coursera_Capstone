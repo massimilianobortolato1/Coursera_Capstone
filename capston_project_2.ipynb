{
 "cells": [
  {
   "cell_type": "markdown",
   "metadata": {},
   "source": [
    "## CAPSTON PROJECT: WORLD CITIES TOURIST ARRIVALS"
   ]
  },
  {
   "cell_type": "markdown",
   "metadata": {},
   "source": [
    "### DATA"
   ]
  },
  {
   "cell_type": "markdown",
   "metadata": {},
   "source": [
    "LIST OF CITIES 1: I use the \"List of cities by international visitors\" (https://en.wikipedia.org/wiki/List_of_cities_by_international_visitors) classified by the Euromonitor Rank. I'm intersted in the \"City\" and \"2018 Arrivals\" columns. I scrape the page and make a Pandas Dataframe. For evey city i will find Latitude an Longitude with geolocator and add this 2 columns to the DataFrame."
   ]
  },
  {
   "cell_type": "markdown",
   "metadata": {},
   "source": [
    "LIST OF CITIES 2: I use the list of city by polpulation (csv file: https://worldpopulationreview.com/world-cities) and make a Pandas data frame."
   ]
  },
  {
   "cell_type": "markdown",
   "metadata": {},
   "source": [
    "LIST OF CITIES 3: I use the list of city by area (http://www.citymayors.com/statistics/largest-cities-area-125.html). I scrape the page and make a Pandas Dataframe"
   ]
  },
  {
   "cell_type": "markdown",
   "metadata": {},
   "source": [
    "I merge the three dataframe by the city in the LIST OF CITIES 1. the Data frame will have the following columns: City, Population, Area, Arrivals/population , Latitude, Longitude."
   ]
  },
  {
   "cell_type": "markdown",
   "metadata": {},
   "source": [
    "For every city i get the venues data from Foursquare (radius = square(City area)/3,14) latitude and longitude by last Dataframe  created."
   ]
  },
  {
   "cell_type": "markdown",
   "metadata": {},
   "source": [
    "### HOW TO SOLVE THE PROBLEM?"
   ]
  },
  {
   "cell_type": "markdown",
   "metadata": {},
   "source": [
    "1 - CLUSTERING\n",
    "\n",
    "I'll have the cluster of the cities (only made by the data of Foursquare) with k-means with the data of Foursquare. \n",
    "A Feature enginnering will be needed to compare every compare the city in the right way.\n",
    "\n",
    "2 - SORTING AND GET INSIGHTS\n",
    "\n",
    "Than every cluster will calculate the median of arrivals/population (i have to do that in order to compare arrivals in the right way) for that cluster and i will sort the clusters by that number.\n",
    "I will have for each cluster the same informations, average rating of every categories of venues, density of venues for each categories, ecc. \n",
    "\n",
    "I'll create a decision tree.Why?:\n",
    "   A) I want every feutures sorted by importance (decision tree this skill)\n",
    "   B) I a city is not included in the list? I want to give an easy tool to categorize the cities that are not present in the         list\n",
    "\n",
    "In this way a city tourism manager that is in the cluster with a low arrivals/population can compare the results of the highest city clusters and make decisions on what  need to be improve in order to increase the number of tourist arrivals (the rating of the restaurant or the number or both?)\n",
    "\n",
    "3 - TESTING\n",
    "\n",
    "I will try the decision tree with a city that is not in the list, categorize it and give some information on how to improve the tourist arrivals."
   ]
  }
 ],
 "metadata": {
  "kernelspec": {
   "display_name": "Python 3",
   "language": "python",
   "name": "python3"
  },
  "language_info": {
   "codemirror_mode": {
    "name": "ipython",
    "version": 3
   },
   "file_extension": ".py",
   "mimetype": "text/x-python",
   "name": "python",
   "nbconvert_exporter": "python",
   "pygments_lexer": "ipython3",
   "version": "3.7.3"
  }
 },
 "nbformat": 4,
 "nbformat_minor": 2
}
